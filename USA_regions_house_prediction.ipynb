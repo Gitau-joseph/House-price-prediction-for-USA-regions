{
 "cells": [
  {
   "cell_type": "markdown",
   "id": "7999bd93-1f11-4978-8f18-5b0aa68ce7ce",
   "metadata": {},
   "source": [
    "# Predicting Housing Prices In USA_Regions: A Data Science Project"
   ]
  },
  {
   "cell_type": "markdown",
   "id": "5e4cdc26-29e7-4488-9f0f-031a1d82da30",
   "metadata": {},
   "source": [
    "<B>Introduction:<B>\n",
    "\n",
    "Here is a model for persons who need help predicting housing prices for regions in the USA. By putting in features\n",
    "of house it returns back an estimate of what the house would sell for.\n",
    "\n",
    "The dataset('Usa_Housing.csv') contains columns:\n",
    "* 'Avg. Area Income': Avg. Income of residents of the city house is located in.\n",
    "* 'Avg. Area House Age': Avg Age of Houses in same city\n",
    "* 'Avg. Area Number of Rooms': Avg Number of Rooms for Houses in same city\n",
    "* 'Avg. Area Number of Bedrooms': Avg Number of Bedrooms for Houses in same city\n",
    "* 'Area Population': Population of city house is located in\n",
    "* 'Price': Price that the house sold at\n",
    "* 'Address': Address for the house\n",
    "\n",
    "->We use a USA_Housing dataset to explore,clean,and model the data to predict housing prices accurately."
   ]
  },
  {
   "cell_type": "code",
   "execution_count": 1,
   "id": "a18593d5-c5c0-4d21-9131-508aa94bde21",
   "metadata": {},
   "outputs": [],
   "source": [
    "import pandas as pd\n",
    "import numpy as np"
   ]
  },
  {
   "cell_type": "code",
   "execution_count": 2,
   "id": "27baa2f0-372b-4dd7-9dc0-fc3016fb539d",
   "metadata": {},
   "outputs": [],
   "source": [
    "pd.set_option('display.float_format', lambda x: '%.2f' % x)"
   ]
  },
  {
   "cell_type": "code",
   "execution_count": 3,
   "id": "3d6a6ac2-1903-490a-8393-78ab26e6d200",
   "metadata": {},
   "outputs": [
    {
     "data": {
      "text/html": [
       "<div>\n",
       "<style scoped>\n",
       "    .dataframe tbody tr th:only-of-type {\n",
       "        vertical-align: middle;\n",
       "    }\n",
       "\n",
       "    .dataframe tbody tr th {\n",
       "        vertical-align: top;\n",
       "    }\n",
       "\n",
       "    .dataframe thead th {\n",
       "        text-align: right;\n",
       "    }\n",
       "</style>\n",
       "<table border=\"1\" class=\"dataframe\">\n",
       "  <thead>\n",
       "    <tr style=\"text-align: right;\">\n",
       "      <th></th>\n",
       "      <th>Avg. Area Income</th>\n",
       "      <th>Avg. Area House Age</th>\n",
       "      <th>Avg. Area Number of Rooms</th>\n",
       "      <th>Avg. Area Number of Bedrooms</th>\n",
       "      <th>Area Population</th>\n",
       "      <th>Price</th>\n",
       "      <th>Address</th>\n",
       "    </tr>\n",
       "  </thead>\n",
       "  <tbody>\n",
       "    <tr>\n",
       "      <th>4064</th>\n",
       "      <td>63307.83</td>\n",
       "      <td>6.06</td>\n",
       "      <td>8.02</td>\n",
       "      <td>4.18</td>\n",
       "      <td>31956.52</td>\n",
       "      <td>1286974.70</td>\n",
       "      <td>122 Kevin Stream\\nSouth Donna, MD 76364</td>\n",
       "    </tr>\n",
       "    <tr>\n",
       "      <th>3797</th>\n",
       "      <td>56348.35</td>\n",
       "      <td>6.34</td>\n",
       "      <td>4.89</td>\n",
       "      <td>2.20</td>\n",
       "      <td>23476.97</td>\n",
       "      <td>649223.51</td>\n",
       "      <td>1629 James Pines\\nPort John, LA 49420</td>\n",
       "    </tr>\n",
       "    <tr>\n",
       "      <th>4392</th>\n",
       "      <td>81721.61</td>\n",
       "      <td>4.40</td>\n",
       "      <td>5.86</td>\n",
       "      <td>4.44</td>\n",
       "      <td>40454.82</td>\n",
       "      <td>1130293.60</td>\n",
       "      <td>USNV Lee\\nFPO AE 92072</td>\n",
       "    </tr>\n",
       "    <tr>\n",
       "      <th>2808</th>\n",
       "      <td>74428.13</td>\n",
       "      <td>6.27</td>\n",
       "      <td>6.11</td>\n",
       "      <td>2.49</td>\n",
       "      <td>49465.95</td>\n",
       "      <td>1471746.56</td>\n",
       "      <td>91582 Fischer Rapids Suite 372\\nRichardsonches...</td>\n",
       "    </tr>\n",
       "    <tr>\n",
       "      <th>2567</th>\n",
       "      <td>57730.32</td>\n",
       "      <td>5.11</td>\n",
       "      <td>9.00</td>\n",
       "      <td>6.06</td>\n",
       "      <td>42451.31</td>\n",
       "      <td>1299991.95</td>\n",
       "      <td>USCGC Watson\\nFPO AP 69692</td>\n",
       "    </tr>\n",
       "    <tr>\n",
       "      <th>1347</th>\n",
       "      <td>74022.14</td>\n",
       "      <td>6.74</td>\n",
       "      <td>5.58</td>\n",
       "      <td>4.20</td>\n",
       "      <td>30053.44</td>\n",
       "      <td>1358899.69</td>\n",
       "      <td>Unit 7807 Box 8697\\nDPO AA 50317</td>\n",
       "    </tr>\n",
       "    <tr>\n",
       "      <th>2684</th>\n",
       "      <td>74419.54</td>\n",
       "      <td>7.81</td>\n",
       "      <td>8.47</td>\n",
       "      <td>3.31</td>\n",
       "      <td>48591.39</td>\n",
       "      <td>2019424.22</td>\n",
       "      <td>80827 Horn Trafficway\\nBennettchester, MP 3545...</td>\n",
       "    </tr>\n",
       "    <tr>\n",
       "      <th>3865</th>\n",
       "      <td>77910.27</td>\n",
       "      <td>4.64</td>\n",
       "      <td>6.30</td>\n",
       "      <td>4.35</td>\n",
       "      <td>28126.83</td>\n",
       "      <td>983180.37</td>\n",
       "      <td>7319 Gray Street Apt. 003\\nHamiltonshire, WI 7...</td>\n",
       "    </tr>\n",
       "  </tbody>\n",
       "</table>\n",
       "</div>"
      ],
      "text/plain": [
       "      Avg. Area Income  Avg. Area House Age  Avg. Area Number of Rooms  \\\n",
       "4064          63307.83                 6.06                       8.02   \n",
       "3797          56348.35                 6.34                       4.89   \n",
       "4392          81721.61                 4.40                       5.86   \n",
       "2808          74428.13                 6.27                       6.11   \n",
       "2567          57730.32                 5.11                       9.00   \n",
       "1347          74022.14                 6.74                       5.58   \n",
       "2684          74419.54                 7.81                       8.47   \n",
       "3865          77910.27                 4.64                       6.30   \n",
       "\n",
       "      Avg. Area Number of Bedrooms  Area Population      Price  \\\n",
       "4064                          4.18         31956.52 1286974.70   \n",
       "3797                          2.20         23476.97  649223.51   \n",
       "4392                          4.44         40454.82 1130293.60   \n",
       "2808                          2.49         49465.95 1471746.56   \n",
       "2567                          6.06         42451.31 1299991.95   \n",
       "1347                          4.20         30053.44 1358899.69   \n",
       "2684                          3.31         48591.39 2019424.22   \n",
       "3865                          4.35         28126.83  983180.37   \n",
       "\n",
       "                                                Address  \n",
       "4064            122 Kevin Stream\\nSouth Donna, MD 76364  \n",
       "3797              1629 James Pines\\nPort John, LA 49420  \n",
       "4392                             USNV Lee\\nFPO AE 92072  \n",
       "2808  91582 Fischer Rapids Suite 372\\nRichardsonches...  \n",
       "2567                         USCGC Watson\\nFPO AP 69692  \n",
       "1347                   Unit 7807 Box 8697\\nDPO AA 50317  \n",
       "2684  80827 Horn Trafficway\\nBennettchester, MP 3545...  \n",
       "3865  7319 Gray Street Apt. 003\\nHamiltonshire, WI 7...  "
      ]
     },
     "execution_count": 3,
     "metadata": {},
     "output_type": "execute_result"
    }
   ],
   "source": [
    "dataset = pd.read_csv('Usa_Housing.csv')\n",
    "dataset.sample(8)"
   ]
  },
  {
   "cell_type": "code",
   "execution_count": 4,
   "id": "47dc68c6-b644-4bf1-9823-7cd62b359eab",
   "metadata": {},
   "outputs": [
    {
     "data": {
      "text/plain": [
       "<bound method NDFrame.describe of       Avg. Area Income  Avg. Area House Age  Avg. Area Number of Rooms  \\\n",
       "0             79545.46                 5.68                       7.01   \n",
       "1             79248.64                 6.00                       6.73   \n",
       "2             61287.07                 5.87                       8.51   \n",
       "3             63345.24                 7.19                       5.59   \n",
       "4             59982.20                 5.04                       7.84   \n",
       "...                ...                  ...                        ...   \n",
       "4995          60567.94                 7.83                       6.14   \n",
       "4996          78491.28                 7.00                       6.58   \n",
       "4997          63390.69                 7.25                       4.81   \n",
       "4998          68001.33                 5.53                       7.13   \n",
       "4999          65510.58                 5.99                       6.79   \n",
       "\n",
       "      Avg. Area Number of Bedrooms  Area Population      Price  \\\n",
       "0                             4.09         23086.80 1059033.56   \n",
       "1                             3.09         40173.07 1505890.91   \n",
       "2                             5.13         36882.16 1058987.99   \n",
       "3                             3.26         34310.24 1260616.81   \n",
       "4                             4.23         26354.11  630943.49   \n",
       "...                            ...              ...        ...   \n",
       "4995                          3.46         22837.36 1060193.79   \n",
       "4996                          4.02         25616.12 1482617.73   \n",
       "4997                          2.13         33266.15 1030729.58   \n",
       "4998                          5.44         42625.62 1198656.87   \n",
       "4999                          4.07         46501.28 1298950.48   \n",
       "\n",
       "                                                Address  \n",
       "0     208 Michael Ferry Apt. 674\\nLaurabury, NE 3701...  \n",
       "1     188 Johnson Views Suite 079\\nLake Kathleen, CA...  \n",
       "2     9127 Elizabeth Stravenue\\nDanieltown, WI 06482...  \n",
       "3                             USS Barnett\\nFPO AP 44820  \n",
       "4                            USNS Raymond\\nFPO AE 09386  \n",
       "...                                                 ...  \n",
       "4995                   USNS Williams\\nFPO AP 30153-7653  \n",
       "4996              PSC 9258, Box 8489\\nAPO AA 42991-3352  \n",
       "4997  4215 Tracy Garden Suite 076\\nJoshualand, VA 01...  \n",
       "4998                          USS Wallace\\nFPO AE 73316  \n",
       "4999  37778 George Ridges Apt. 509\\nEast Holly, NV 2...  \n",
       "\n",
       "[5000 rows x 7 columns]>"
      ]
     },
     "execution_count": 4,
     "metadata": {},
     "output_type": "execute_result"
    }
   ],
   "source": [
    "dataset.describe"
   ]
  },
  {
   "cell_type": "code",
   "execution_count": 5,
   "id": "c0f62310-e445-4edf-9943-ad3015c685e3",
   "metadata": {},
   "outputs": [
    {
     "data": {
      "text/plain": [
       "Avg. Area Income                0\n",
       "Avg. Area House Age             0\n",
       "Avg. Area Number of Rooms       0\n",
       "Avg. Area Number of Bedrooms    0\n",
       "Area Population                 0\n",
       "Price                           0\n",
       "Address                         0\n",
       "dtype: int64"
      ]
     },
     "execution_count": 5,
     "metadata": {},
     "output_type": "execute_result"
    }
   ],
   "source": [
    " # Checkin any missing values\n",
    "dataset.isnull().sum()"
   ]
  },
  {
   "cell_type": "markdown",
   "id": "c4c00b54-7cd9-4d31-a2f2-9657858dcee7",
   "metadata": {},
   "source": [
    "### Feature Engineering"
   ]
  },
  {
   "cell_type": "code",
   "execution_count": 6,
   "id": "7c8b452d-fd5d-4f72-8063-fa6ed6551412",
   "metadata": {},
   "outputs": [],
   "source": [
    "dataset['Price']= dataset['Price'].astype(np.int64)"
   ]
  },
  {
   "cell_type": "code",
   "execution_count": 7,
   "id": "264ad967-2462-4404-935c-183e743fc50e",
   "metadata": {},
   "outputs": [
    {
     "data": {
      "text/html": [
       "<div>\n",
       "<style scoped>\n",
       "    .dataframe tbody tr th:only-of-type {\n",
       "        vertical-align: middle;\n",
       "    }\n",
       "\n",
       "    .dataframe tbody tr th {\n",
       "        vertical-align: top;\n",
       "    }\n",
       "\n",
       "    .dataframe thead th {\n",
       "        text-align: right;\n",
       "    }\n",
       "</style>\n",
       "<table border=\"1\" class=\"dataframe\">\n",
       "  <thead>\n",
       "    <tr style=\"text-align: right;\">\n",
       "      <th></th>\n",
       "      <th>Avg. Area Income</th>\n",
       "      <th>Avg. Area House Age</th>\n",
       "      <th>Avg. Area Number of Rooms</th>\n",
       "      <th>Avg. Area Number of Bedrooms</th>\n",
       "      <th>Area Population</th>\n",
       "      <th>Price</th>\n",
       "      <th>Address</th>\n",
       "    </tr>\n",
       "  </thead>\n",
       "  <tbody>\n",
       "    <tr>\n",
       "      <th>0</th>\n",
       "      <td>79545.46</td>\n",
       "      <td>5.68</td>\n",
       "      <td>7.01</td>\n",
       "      <td>4.09</td>\n",
       "      <td>23086.80</td>\n",
       "      <td>1059033</td>\n",
       "      <td>208 Michael Ferry Apt. 674\\nLaurabury, NE 3701...</td>\n",
       "    </tr>\n",
       "    <tr>\n",
       "      <th>1</th>\n",
       "      <td>79248.64</td>\n",
       "      <td>6.00</td>\n",
       "      <td>6.73</td>\n",
       "      <td>3.09</td>\n",
       "      <td>40173.07</td>\n",
       "      <td>1505890</td>\n",
       "      <td>188 Johnson Views Suite 079\\nLake Kathleen, CA...</td>\n",
       "    </tr>\n",
       "    <tr>\n",
       "      <th>2</th>\n",
       "      <td>61287.07</td>\n",
       "      <td>5.87</td>\n",
       "      <td>8.51</td>\n",
       "      <td>5.13</td>\n",
       "      <td>36882.16</td>\n",
       "      <td>1058987</td>\n",
       "      <td>9127 Elizabeth Stravenue\\nDanieltown, WI 06482...</td>\n",
       "    </tr>\n",
       "    <tr>\n",
       "      <th>3</th>\n",
       "      <td>63345.24</td>\n",
       "      <td>7.19</td>\n",
       "      <td>5.59</td>\n",
       "      <td>3.26</td>\n",
       "      <td>34310.24</td>\n",
       "      <td>1260616</td>\n",
       "      <td>USS Barnett\\nFPO AP 44820</td>\n",
       "    </tr>\n",
       "    <tr>\n",
       "      <th>4</th>\n",
       "      <td>59982.20</td>\n",
       "      <td>5.04</td>\n",
       "      <td>7.84</td>\n",
       "      <td>4.23</td>\n",
       "      <td>26354.11</td>\n",
       "      <td>630943</td>\n",
       "      <td>USNS Raymond\\nFPO AE 09386</td>\n",
       "    </tr>\n",
       "  </tbody>\n",
       "</table>\n",
       "</div>"
      ],
      "text/plain": [
       "   Avg. Area Income  Avg. Area House Age  Avg. Area Number of Rooms  \\\n",
       "0          79545.46                 5.68                       7.01   \n",
       "1          79248.64                 6.00                       6.73   \n",
       "2          61287.07                 5.87                       8.51   \n",
       "3          63345.24                 7.19                       5.59   \n",
       "4          59982.20                 5.04                       7.84   \n",
       "\n",
       "   Avg. Area Number of Bedrooms  Area Population    Price  \\\n",
       "0                          4.09         23086.80  1059033   \n",
       "1                          3.09         40173.07  1505890   \n",
       "2                          5.13         36882.16  1058987   \n",
       "3                          3.26         34310.24  1260616   \n",
       "4                          4.23         26354.11   630943   \n",
       "\n",
       "                                             Address  \n",
       "0  208 Michael Ferry Apt. 674\\nLaurabury, NE 3701...  \n",
       "1  188 Johnson Views Suite 079\\nLake Kathleen, CA...  \n",
       "2  9127 Elizabeth Stravenue\\nDanieltown, WI 06482...  \n",
       "3                          USS Barnett\\nFPO AP 44820  \n",
       "4                         USNS Raymond\\nFPO AE 09386  "
      ]
     },
     "execution_count": 7,
     "metadata": {},
     "output_type": "execute_result"
    }
   ],
   "source": [
    "dataset[\"Price\"] = pd.to_numeric(dataset[\"Price\"])\n",
    "dataset.head()"
   ]
  },
  {
   "cell_type": "code",
   "execution_count": 8,
   "id": "01d8441c-7b21-483a-aa31-2d03e777d71c",
   "metadata": {},
   "outputs": [],
   "source": [
    "import seaborn as sns\n",
    "import matplotlib.pyplot as plt"
   ]
  },
  {
   "cell_type": "code",
   "execution_count": 9,
   "id": "61bf4f41-d653-41d3-9d5d-c9033d38ebf8",
   "metadata": {},
   "outputs": [
    {
     "data": {
      "text/html": [
       "<div>\n",
       "<style scoped>\n",
       "    .dataframe tbody tr th:only-of-type {\n",
       "        vertical-align: middle;\n",
       "    }\n",
       "\n",
       "    .dataframe tbody tr th {\n",
       "        vertical-align: top;\n",
       "    }\n",
       "\n",
       "    .dataframe thead th {\n",
       "        text-align: right;\n",
       "    }\n",
       "</style>\n",
       "<table border=\"1\" class=\"dataframe\">\n",
       "  <thead>\n",
       "    <tr style=\"text-align: right;\">\n",
       "      <th></th>\n",
       "      <th>Avg. Area Income</th>\n",
       "      <th>Avg. Area House Age</th>\n",
       "      <th>Avg. Area Number of Rooms</th>\n",
       "      <th>Avg. Area Number of Bedrooms</th>\n",
       "      <th>Area Population</th>\n",
       "      <th>Price</th>\n",
       "    </tr>\n",
       "  </thead>\n",
       "  <tbody>\n",
       "    <tr>\n",
       "      <th>0</th>\n",
       "      <td>79545.46</td>\n",
       "      <td>5.68</td>\n",
       "      <td>7.01</td>\n",
       "      <td>4.09</td>\n",
       "      <td>23086.80</td>\n",
       "      <td>1059033</td>\n",
       "    </tr>\n",
       "    <tr>\n",
       "      <th>1</th>\n",
       "      <td>79248.64</td>\n",
       "      <td>6.00</td>\n",
       "      <td>6.73</td>\n",
       "      <td>3.09</td>\n",
       "      <td>40173.07</td>\n",
       "      <td>1505890</td>\n",
       "    </tr>\n",
       "    <tr>\n",
       "      <th>2</th>\n",
       "      <td>61287.07</td>\n",
       "      <td>5.87</td>\n",
       "      <td>8.51</td>\n",
       "      <td>5.13</td>\n",
       "      <td>36882.16</td>\n",
       "      <td>1058987</td>\n",
       "    </tr>\n",
       "    <tr>\n",
       "      <th>3</th>\n",
       "      <td>63345.24</td>\n",
       "      <td>7.19</td>\n",
       "      <td>5.59</td>\n",
       "      <td>3.26</td>\n",
       "      <td>34310.24</td>\n",
       "      <td>1260616</td>\n",
       "    </tr>\n",
       "    <tr>\n",
       "      <th>4</th>\n",
       "      <td>59982.20</td>\n",
       "      <td>5.04</td>\n",
       "      <td>7.84</td>\n",
       "      <td>4.23</td>\n",
       "      <td>26354.11</td>\n",
       "      <td>630943</td>\n",
       "    </tr>\n",
       "  </tbody>\n",
       "</table>\n",
       "</div>"
      ],
      "text/plain": [
       "   Avg. Area Income  Avg. Area House Age  Avg. Area Number of Rooms  \\\n",
       "0          79545.46                 5.68                       7.01   \n",
       "1          79248.64                 6.00                       6.73   \n",
       "2          61287.07                 5.87                       8.51   \n",
       "3          63345.24                 7.19                       5.59   \n",
       "4          59982.20                 5.04                       7.84   \n",
       "\n",
       "   Avg. Area Number of Bedrooms  Area Population    Price  \n",
       "0                          4.09         23086.80  1059033  \n",
       "1                          3.09         40173.07  1505890  \n",
       "2                          5.13         36882.16  1058987  \n",
       "3                          3.26         34310.24  1260616  \n",
       "4                          4.23         26354.11   630943  "
      ]
     },
     "execution_count": 9,
     "metadata": {},
     "output_type": "execute_result"
    }
   ],
   "source": [
    "df= dataset.drop('Address',axis = 1)\n",
    "df.head()"
   ]
  },
  {
   "cell_type": "code",
   "execution_count": 10,
   "id": "eabd9e7d-d9c3-470f-9538-4c6a52326631",
   "metadata": {},
   "outputs": [
    {
     "data": {
      "text/html": [
       "<div>\n",
       "<style scoped>\n",
       "    .dataframe tbody tr th:only-of-type {\n",
       "        vertical-align: middle;\n",
       "    }\n",
       "\n",
       "    .dataframe tbody tr th {\n",
       "        vertical-align: top;\n",
       "    }\n",
       "\n",
       "    .dataframe thead th {\n",
       "        text-align: right;\n",
       "    }\n",
       "</style>\n",
       "<table border=\"1\" class=\"dataframe\">\n",
       "  <thead>\n",
       "    <tr style=\"text-align: right;\">\n",
       "      <th></th>\n",
       "      <th>Avg. Area Income</th>\n",
       "      <th>Avg. Area House Age</th>\n",
       "      <th>Avg. Area Number of Rooms</th>\n",
       "      <th>Avg. Area Number of Bedrooms</th>\n",
       "      <th>Area Population</th>\n",
       "      <th>Price</th>\n",
       "    </tr>\n",
       "  </thead>\n",
       "  <tbody>\n",
       "    <tr>\n",
       "      <th>Avg. Area Income</th>\n",
       "      <td>1.00</td>\n",
       "      <td>-0.00</td>\n",
       "      <td>-0.01</td>\n",
       "      <td>0.02</td>\n",
       "      <td>-0.02</td>\n",
       "      <td>0.64</td>\n",
       "    </tr>\n",
       "    <tr>\n",
       "      <th>Avg. Area House Age</th>\n",
       "      <td>-0.00</td>\n",
       "      <td>1.00</td>\n",
       "      <td>-0.01</td>\n",
       "      <td>0.01</td>\n",
       "      <td>-0.02</td>\n",
       "      <td>0.45</td>\n",
       "    </tr>\n",
       "    <tr>\n",
       "      <th>Avg. Area Number of Rooms</th>\n",
       "      <td>-0.01</td>\n",
       "      <td>-0.01</td>\n",
       "      <td>1.00</td>\n",
       "      <td>0.46</td>\n",
       "      <td>0.00</td>\n",
       "      <td>0.34</td>\n",
       "    </tr>\n",
       "    <tr>\n",
       "      <th>Avg. Area Number of Bedrooms</th>\n",
       "      <td>0.02</td>\n",
       "      <td>0.01</td>\n",
       "      <td>0.46</td>\n",
       "      <td>1.00</td>\n",
       "      <td>-0.02</td>\n",
       "      <td>0.17</td>\n",
       "    </tr>\n",
       "    <tr>\n",
       "      <th>Area Population</th>\n",
       "      <td>-0.02</td>\n",
       "      <td>-0.02</td>\n",
       "      <td>0.00</td>\n",
       "      <td>-0.02</td>\n",
       "      <td>1.00</td>\n",
       "      <td>0.41</td>\n",
       "    </tr>\n",
       "    <tr>\n",
       "      <th>Price</th>\n",
       "      <td>0.64</td>\n",
       "      <td>0.45</td>\n",
       "      <td>0.34</td>\n",
       "      <td>0.17</td>\n",
       "      <td>0.41</td>\n",
       "      <td>1.00</td>\n",
       "    </tr>\n",
       "  </tbody>\n",
       "</table>\n",
       "</div>"
      ],
      "text/plain": [
       "                              Avg. Area Income  Avg. Area House Age  \\\n",
       "Avg. Area Income                          1.00                -0.00   \n",
       "Avg. Area House Age                      -0.00                 1.00   \n",
       "Avg. Area Number of Rooms                -0.01                -0.01   \n",
       "Avg. Area Number of Bedrooms              0.02                 0.01   \n",
       "Area Population                          -0.02                -0.02   \n",
       "Price                                     0.64                 0.45   \n",
       "\n",
       "                              Avg. Area Number of Rooms  \\\n",
       "Avg. Area Income                                  -0.01   \n",
       "Avg. Area House Age                               -0.01   \n",
       "Avg. Area Number of Rooms                          1.00   \n",
       "Avg. Area Number of Bedrooms                       0.46   \n",
       "Area Population                                    0.00   \n",
       "Price                                              0.34   \n",
       "\n",
       "                              Avg. Area Number of Bedrooms  Area Population  \\\n",
       "Avg. Area Income                                      0.02            -0.02   \n",
       "Avg. Area House Age                                   0.01            -0.02   \n",
       "Avg. Area Number of Rooms                             0.46             0.00   \n",
       "Avg. Area Number of Bedrooms                          1.00            -0.02   \n",
       "Area Population                                      -0.02             1.00   \n",
       "Price                                                 0.17             0.41   \n",
       "\n",
       "                              Price  \n",
       "Avg. Area Income               0.64  \n",
       "Avg. Area House Age            0.45  \n",
       "Avg. Area Number of Rooms      0.34  \n",
       "Avg. Area Number of Bedrooms   0.17  \n",
       "Area Population                0.41  \n",
       "Price                          1.00  "
      ]
     },
     "execution_count": 10,
     "metadata": {},
     "output_type": "execute_result"
    }
   ],
   "source": [
    "df.corr()"
   ]
  },
  {
   "cell_type": "code",
   "execution_count": 11,
   "id": "bcb4531e-c812-4840-8626-70023c164ded",
   "metadata": {},
   "outputs": [
    {
     "data": {
      "text/plain": [
       "<Figure size 1500x400 with 0 Axes>"
      ]
     },
     "execution_count": 11,
     "metadata": {},
     "output_type": "execute_result"
    },
    {
     "data": {
      "image/png": "[encoded data removed]",
      "text/plain": [
       "<Figure size 640x480 with 1 Axes>"
      ]
     },
     "metadata": {},
     "output_type": "display_data"
    },
    {
     "data": {
      "text/plain": [
       "<Figure size 1500x400 with 0 Axes>"
      ]
     },
     "metadata": {},
     "output_type": "display_data"
    }
   ],
   "source": [
    "sns.heatmap(df.corr(),annot = True,cbar = False)\n",
    "\n",
    "plt.figure(figsize=(15,4))"
   ]
  },
  {
   "cell_type": "markdown",
   "id": "b4523fe9-fa07-42a9-89ea-9e31599d8606",
   "metadata": {},
   "source": [
    "### Separating independent variables from target variable"
   ]
  },
  {
   "cell_type": "code",
   "execution_count": 12,
   "id": "4950764a-5c48-48fa-b4f4-7dbc33b9133c",
   "metadata": {},
   "outputs": [
    {
     "data": {
      "text/html": [
       "<div>\n",
       "<style scoped>\n",
       "    .dataframe tbody tr th:only-of-type {\n",
       "        vertical-align: middle;\n",
       "    }\n",
       "\n",
       "    .dataframe tbody tr th {\n",
       "        vertical-align: top;\n",
       "    }\n",
       "\n",
       "    .dataframe thead th {\n",
       "        text-align: right;\n",
       "    }\n",
       "</style>\n",
       "<table border=\"1\" class=\"dataframe\">\n",
       "  <thead>\n",
       "    <tr style=\"text-align: right;\">\n",
       "      <th></th>\n",
       "      <th>Avg. Area Income</th>\n",
       "      <th>Avg. Area House Age</th>\n",
       "      <th>Avg. Area Number of Rooms</th>\n",
       "      <th>Avg. Area Number of Bedrooms</th>\n",
       "      <th>Area Population</th>\n",
       "    </tr>\n",
       "  </thead>\n",
       "  <tbody>\n",
       "    <tr>\n",
       "      <th>0</th>\n",
       "      <td>79545.46</td>\n",
       "      <td>5.68</td>\n",
       "      <td>7.01</td>\n",
       "      <td>4.09</td>\n",
       "      <td>23086.80</td>\n",
       "    </tr>\n",
       "    <tr>\n",
       "      <th>1</th>\n",
       "      <td>79248.64</td>\n",
       "      <td>6.00</td>\n",
       "      <td>6.73</td>\n",
       "      <td>3.09</td>\n",
       "      <td>40173.07</td>\n",
       "    </tr>\n",
       "    <tr>\n",
       "      <th>2</th>\n",
       "      <td>61287.07</td>\n",
       "      <td>5.87</td>\n",
       "      <td>8.51</td>\n",
       "      <td>5.13</td>\n",
       "      <td>36882.16</td>\n",
       "    </tr>\n",
       "    <tr>\n",
       "      <th>3</th>\n",
       "      <td>63345.24</td>\n",
       "      <td>7.19</td>\n",
       "      <td>5.59</td>\n",
       "      <td>3.26</td>\n",
       "      <td>34310.24</td>\n",
       "    </tr>\n",
       "    <tr>\n",
       "      <th>4</th>\n",
       "      <td>59982.20</td>\n",
       "      <td>5.04</td>\n",
       "      <td>7.84</td>\n",
       "      <td>4.23</td>\n",
       "      <td>26354.11</td>\n",
       "    </tr>\n",
       "    <tr>\n",
       "      <th>...</th>\n",
       "      <td>...</td>\n",
       "      <td>...</td>\n",
       "      <td>...</td>\n",
       "      <td>...</td>\n",
       "      <td>...</td>\n",
       "    </tr>\n",
       "    <tr>\n",
       "      <th>4995</th>\n",
       "      <td>60567.94</td>\n",
       "      <td>7.83</td>\n",
       "      <td>6.14</td>\n",
       "      <td>3.46</td>\n",
       "      <td>22837.36</td>\n",
       "    </tr>\n",
       "    <tr>\n",
       "      <th>4996</th>\n",
       "      <td>78491.28</td>\n",
       "      <td>7.00</td>\n",
       "      <td>6.58</td>\n",
       "      <td>4.02</td>\n",
       "      <td>25616.12</td>\n",
       "    </tr>\n",
       "    <tr>\n",
       "      <th>4997</th>\n",
       "      <td>63390.69</td>\n",
       "      <td>7.25</td>\n",
       "      <td>4.81</td>\n",
       "      <td>2.13</td>\n",
       "      <td>33266.15</td>\n",
       "    </tr>\n",
       "    <tr>\n",
       "      <th>4998</th>\n",
       "      <td>68001.33</td>\n",
       "      <td>5.53</td>\n",
       "      <td>7.13</td>\n",
       "      <td>5.44</td>\n",
       "      <td>42625.62</td>\n",
       "    </tr>\n",
       "    <tr>\n",
       "      <th>4999</th>\n",
       "      <td>65510.58</td>\n",
       "      <td>5.99</td>\n",
       "      <td>6.79</td>\n",
       "      <td>4.07</td>\n",
       "      <td>46501.28</td>\n",
       "    </tr>\n",
       "  </tbody>\n",
       "</table>\n",
       "<p>5000 rows × 5 columns</p>\n",
       "</div>"
      ],
      "text/plain": [
       "      Avg. Area Income  Avg. Area House Age  Avg. Area Number of Rooms  \\\n",
       "0             79545.46                 5.68                       7.01   \n",
       "1             79248.64                 6.00                       6.73   \n",
       "2             61287.07                 5.87                       8.51   \n",
       "3             63345.24                 7.19                       5.59   \n",
       "4             59982.20                 5.04                       7.84   \n",
       "...                ...                  ...                        ...   \n",
       "4995          60567.94                 7.83                       6.14   \n",
       "4996          78491.28                 7.00                       6.58   \n",
       "4997          63390.69                 7.25                       4.81   \n",
       "4998          68001.33                 5.53                       7.13   \n",
       "4999          65510.58                 5.99                       6.79   \n",
       "\n",
       "      Avg. Area Number of Bedrooms  Area Population  \n",
       "0                             4.09         23086.80  \n",
       "1                             3.09         40173.07  \n",
       "2                             5.13         36882.16  \n",
       "3                             3.26         34310.24  \n",
       "4                             4.23         26354.11  \n",
       "...                            ...              ...  \n",
       "4995                          3.46         22837.36  \n",
       "4996                          4.02         25616.12  \n",
       "4997                          2.13         33266.15  \n",
       "4998                          5.44         42625.62  \n",
       "4999                          4.07         46501.28  \n",
       "\n",
       "[5000 rows x 5 columns]"
      ]
     },
     "execution_count": 12,
     "metadata": {},
     "output_type": "execute_result"
    }
   ],
   "source": [
    "X = df.iloc[:,0:5]\n",
    "X"
   ]
  },
  {
   "cell_type": "code",
   "execution_count": 14,
   "id": "ad70a83d-a2a4-4671-a7bd-302422b2b6ae",
   "metadata": {},
   "outputs": [
    {
     "data": {
      "text/plain": [
       "0       1059033\n",
       "1       1505890\n",
       "2       1058987\n",
       "3       1260616\n",
       "4        630943\n",
       "         ...   \n",
       "4995    1060193\n",
       "4996    1482617\n",
       "4997    1030729\n",
       "4998    1198656\n",
       "4999    1298950\n",
       "Name: Price, Length: 5000, dtype: int64"
      ]
     },
     "execution_count": 14,
     "metadata": {},
     "output_type": "execute_result"
    }
   ],
   "source": [
    "y=df['Price']\n",
    "#y"
   ]
  },
  {
   "cell_type": "markdown",
   "id": "2461b593-9b11-46a7-884d-f0801f0d0cbe",
   "metadata": {},
   "source": [
    "### ii) Splitting data into train and test sets"
   ]
  },
  {
   "cell_type": "code",
   "execution_count": 15,
   "id": "1ceef9bf-5113-4485-8dff-4ffc333378bd",
   "metadata": {},
   "outputs": [],
   "source": [
    "from sklearn.model_selection import train_test_split"
   ]
  },
  {
   "cell_type": "code",
   "execution_count": 16,
   "id": "882fba62-435f-4d20-aaaa-4446b0828266",
   "metadata": {},
   "outputs": [
    {
     "data": {
      "text/html": [
       "<div>\n",
       "<style scoped>\n",
       "    .dataframe tbody tr th:only-of-type {\n",
       "        vertical-align: middle;\n",
       "    }\n",
       "\n",
       "    .dataframe tbody tr th {\n",
       "        vertical-align: top;\n",
       "    }\n",
       "\n",
       "    .dataframe thead th {\n",
       "        text-align: right;\n",
       "    }\n",
       "</style>\n",
       "<table border=\"1\" class=\"dataframe\">\n",
       "  <thead>\n",
       "    <tr style=\"text-align: right;\">\n",
       "      <th></th>\n",
       "      <th>Avg. Area Income</th>\n",
       "      <th>Avg. Area House Age</th>\n",
       "      <th>Avg. Area Number of Rooms</th>\n",
       "      <th>Avg. Area Number of Bedrooms</th>\n",
       "      <th>Area Population</th>\n",
       "    </tr>\n",
       "  </thead>\n",
       "  <tbody>\n",
       "    <tr>\n",
       "      <th>4865</th>\n",
       "      <td>58334.71</td>\n",
       "      <td>5.90</td>\n",
       "      <td>8.23</td>\n",
       "      <td>4.18</td>\n",
       "      <td>23907.77</td>\n",
       "    </tr>\n",
       "    <tr>\n",
       "      <th>1291</th>\n",
       "      <td>60880.58</td>\n",
       "      <td>6.08</td>\n",
       "      <td>7.10</td>\n",
       "      <td>3.06</td>\n",
       "      <td>42877.52</td>\n",
       "    </tr>\n",
       "    <tr>\n",
       "      <th>2164</th>\n",
       "      <td>70791.52</td>\n",
       "      <td>5.09</td>\n",
       "      <td>5.29</td>\n",
       "      <td>4.03</td>\n",
       "      <td>19314.63</td>\n",
       "    </tr>\n",
       "    <tr>\n",
       "      <th>2667</th>\n",
       "      <td>67160.85</td>\n",
       "      <td>6.44</td>\n",
       "      <td>6.86</td>\n",
       "      <td>2.12</td>\n",
       "      <td>33805.33</td>\n",
       "    </tr>\n",
       "    <tr>\n",
       "      <th>289</th>\n",
       "      <td>57782.42</td>\n",
       "      <td>5.16</td>\n",
       "      <td>6.33</td>\n",
       "      <td>2.46</td>\n",
       "      <td>33426.85</td>\n",
       "    </tr>\n",
       "    <tr>\n",
       "      <th>...</th>\n",
       "      <td>...</td>\n",
       "      <td>...</td>\n",
       "      <td>...</td>\n",
       "      <td>...</td>\n",
       "      <td>...</td>\n",
       "    </tr>\n",
       "    <tr>\n",
       "      <th>4171</th>\n",
       "      <td>56610.64</td>\n",
       "      <td>4.85</td>\n",
       "      <td>7.56</td>\n",
       "      <td>3.29</td>\n",
       "      <td>25494.74</td>\n",
       "    </tr>\n",
       "    <tr>\n",
       "      <th>599</th>\n",
       "      <td>70596.85</td>\n",
       "      <td>6.55</td>\n",
       "      <td>6.54</td>\n",
       "      <td>3.10</td>\n",
       "      <td>51614.83</td>\n",
       "    </tr>\n",
       "    <tr>\n",
       "      <th>1361</th>\n",
       "      <td>55621.90</td>\n",
       "      <td>3.74</td>\n",
       "      <td>6.87</td>\n",
       "      <td>2.30</td>\n",
       "      <td>63184.61</td>\n",
       "    </tr>\n",
       "    <tr>\n",
       "      <th>1547</th>\n",
       "      <td>63044.46</td>\n",
       "      <td>5.94</td>\n",
       "      <td>5.91</td>\n",
       "      <td>4.10</td>\n",
       "      <td>32725.28</td>\n",
       "    </tr>\n",
       "    <tr>\n",
       "      <th>4959</th>\n",
       "      <td>75078.79</td>\n",
       "      <td>7.64</td>\n",
       "      <td>8.44</td>\n",
       "      <td>4.33</td>\n",
       "      <td>56148.45</td>\n",
       "    </tr>\n",
       "  </tbody>\n",
       "</table>\n",
       "<p>3350 rows × 5 columns</p>\n",
       "</div>"
      ],
      "text/plain": [
       "      Avg. Area Income  Avg. Area House Age  Avg. Area Number of Rooms  \\\n",
       "4865          58334.71                 5.90                       8.23   \n",
       "1291          60880.58                 6.08                       7.10   \n",
       "2164          70791.52                 5.09                       5.29   \n",
       "2667          67160.85                 6.44                       6.86   \n",
       "289           57782.42                 5.16                       6.33   \n",
       "...                ...                  ...                        ...   \n",
       "4171          56610.64                 4.85                       7.56   \n",
       "599           70596.85                 6.55                       6.54   \n",
       "1361          55621.90                 3.74                       6.87   \n",
       "1547          63044.46                 5.94                       5.91   \n",
       "4959          75078.79                 7.64                       8.44   \n",
       "\n",
       "      Avg. Area Number of Bedrooms  Area Population  \n",
       "4865                          4.18         23907.77  \n",
       "1291                          3.06         42877.52  \n",
       "2164                          4.03         19314.63  \n",
       "2667                          2.12         33805.33  \n",
       "289                           2.46         33426.85  \n",
       "...                            ...              ...  \n",
       "4171                          3.29         25494.74  \n",
       "599                           3.10         51614.83  \n",
       "1361                          2.30         63184.61  \n",
       "1547                          4.10         32725.28  \n",
       "4959                          4.33         56148.45  \n",
       "\n",
       "[3350 rows x 5 columns]"
      ]
     },
     "execution_count": 16,
     "metadata": {},
     "output_type": "execute_result"
    }
   ],
   "source": [
    "X_train,X_test,y_train,y_test = train_test_split(X , y, test_size = 0.33, random_state = 101)\n",
    "X_train\n",
    "#X_test"
   ]
  },
  {
   "cell_type": "code",
   "execution_count": 17,
   "id": "a146ab5e-6210-4935-8683-ee5fcfdbdf30",
   "metadata": {},
   "outputs": [
    {
     "data": {
      "text/html": [
       "<div>\n",
       "<style scoped>\n",
       "    .dataframe tbody tr th:only-of-type {\n",
       "        vertical-align: middle;\n",
       "    }\n",
       "\n",
       "    .dataframe tbody tr th {\n",
       "        vertical-align: top;\n",
       "    }\n",
       "\n",
       "    .dataframe thead th {\n",
       "        text-align: right;\n",
       "    }\n",
       "</style>\n",
       "<table border=\"1\" class=\"dataframe\">\n",
       "  <thead>\n",
       "    <tr style=\"text-align: right;\">\n",
       "      <th></th>\n",
       "      <th>Avg. Area Income</th>\n",
       "      <th>Avg. Area House Age</th>\n",
       "      <th>Avg. Area Number of Rooms</th>\n",
       "      <th>Avg. Area Number of Bedrooms</th>\n",
       "      <th>Area Population</th>\n",
       "    </tr>\n",
       "  </thead>\n",
       "  <tbody>\n",
       "    <tr>\n",
       "      <th>1718</th>\n",
       "      <td>66775.00</td>\n",
       "      <td>5.72</td>\n",
       "      <td>7.80</td>\n",
       "      <td>4.32</td>\n",
       "      <td>36788.98</td>\n",
       "    </tr>\n",
       "    <tr>\n",
       "      <th>2511</th>\n",
       "      <td>62184.54</td>\n",
       "      <td>4.93</td>\n",
       "      <td>7.43</td>\n",
       "      <td>6.22</td>\n",
       "      <td>26008.31</td>\n",
       "    </tr>\n",
       "    <tr>\n",
       "      <th>345</th>\n",
       "      <td>73643.06</td>\n",
       "      <td>6.77</td>\n",
       "      <td>8.34</td>\n",
       "      <td>3.34</td>\n",
       "      <td>43152.14</td>\n",
       "    </tr>\n",
       "    <tr>\n",
       "      <th>2521</th>\n",
       "      <td>61909.04</td>\n",
       "      <td>6.23</td>\n",
       "      <td>6.59</td>\n",
       "      <td>4.29</td>\n",
       "      <td>28953.93</td>\n",
       "    </tr>\n",
       "    <tr>\n",
       "      <th>54</th>\n",
       "      <td>72942.71</td>\n",
       "      <td>4.79</td>\n",
       "      <td>7.32</td>\n",
       "      <td>6.41</td>\n",
       "      <td>24377.91</td>\n",
       "    </tr>\n",
       "    <tr>\n",
       "      <th>...</th>\n",
       "      <td>...</td>\n",
       "      <td>...</td>\n",
       "      <td>...</td>\n",
       "      <td>...</td>\n",
       "      <td>...</td>\n",
       "    </tr>\n",
       "    <tr>\n",
       "      <th>1254</th>\n",
       "      <td>89551.73</td>\n",
       "      <td>5.80</td>\n",
       "      <td>6.92</td>\n",
       "      <td>2.14</td>\n",
       "      <td>43964.66</td>\n",
       "    </tr>\n",
       "    <tr>\n",
       "      <th>3423</th>\n",
       "      <td>58687.10</td>\n",
       "      <td>6.60</td>\n",
       "      <td>6.64</td>\n",
       "      <td>4.31</td>\n",
       "      <td>29395.60</td>\n",
       "    </tr>\n",
       "    <tr>\n",
       "      <th>3946</th>\n",
       "      <td>75059.77</td>\n",
       "      <td>5.57</td>\n",
       "      <td>8.21</td>\n",
       "      <td>6.39</td>\n",
       "      <td>18699.19</td>\n",
       "    </tr>\n",
       "    <tr>\n",
       "      <th>3299</th>\n",
       "      <td>62175.02</td>\n",
       "      <td>5.37</td>\n",
       "      <td>6.57</td>\n",
       "      <td>4.31</td>\n",
       "      <td>31317.60</td>\n",
       "    </tr>\n",
       "    <tr>\n",
       "      <th>1219</th>\n",
       "      <td>57925.00</td>\n",
       "      <td>3.49</td>\n",
       "      <td>7.35</td>\n",
       "      <td>6.37</td>\n",
       "      <td>40177.88</td>\n",
       "    </tr>\n",
       "  </tbody>\n",
       "</table>\n",
       "<p>1650 rows × 5 columns</p>\n",
       "</div>"
      ],
      "text/plain": [
       "      Avg. Area Income  Avg. Area House Age  Avg. Area Number of Rooms  \\\n",
       "1718          66775.00                 5.72                       7.80   \n",
       "2511          62184.54                 4.93                       7.43   \n",
       "345           73643.06                 6.77                       8.34   \n",
       "2521          61909.04                 6.23                       6.59   \n",
       "54            72942.71                 4.79                       7.32   \n",
       "...                ...                  ...                        ...   \n",
       "1254          89551.73                 5.80                       6.92   \n",
       "3423          58687.10                 6.60                       6.64   \n",
       "3946          75059.77                 5.57                       8.21   \n",
       "3299          62175.02                 5.37                       6.57   \n",
       "1219          57925.00                 3.49                       7.35   \n",
       "\n",
       "      Avg. Area Number of Bedrooms  Area Population  \n",
       "1718                          4.32         36788.98  \n",
       "2511                          6.22         26008.31  \n",
       "345                           3.34         43152.14  \n",
       "2521                          4.29         28953.93  \n",
       "54                            6.41         24377.91  \n",
       "...                            ...              ...  \n",
       "1254                          2.14         43964.66  \n",
       "3423                          4.31         29395.60  \n",
       "3946                          6.39         18699.19  \n",
       "3299                          4.31         31317.60  \n",
       "1219                          6.37         40177.88  \n",
       "\n",
       "[1650 rows x 5 columns]"
      ]
     },
     "execution_count": 17,
     "metadata": {},
     "output_type": "execute_result"
    }
   ],
   "source": [
    "X_test"
   ]
  },
  {
   "cell_type": "code",
   "execution_count": 18,
   "id": "4b23512c-fe4e-4d43-a800-7873927263cf",
   "metadata": {},
   "outputs": [
    {
     "data": {
      "text/plain": [
       "(5000, 6)"
      ]
     },
     "execution_count": 18,
     "metadata": {},
     "output_type": "execute_result"
    }
   ],
   "source": [
    "df.shape#next we train the model on the train set"
   ]
  },
  {
   "cell_type": "markdown",
   "id": "54812c64-b17b-4fb3-b799-5dd0b8178eb7",
   "metadata": {},
   "source": [
    "**Train the model on the train set**"
   ]
  },
  {
   "cell_type": "markdown",
   "id": "f040ffc2-9f8f-422b-906f-35ba6dca4c5a",
   "metadata": {},
   "source": [
    " ### iii) Calling the algorithm"
   ]
  },
  {
   "cell_type": "markdown",
   "id": "69fa526e-ebb6-4772-a7a2-89e1112bd9cc",
   "metadata": {},
   "source": [
    "* Linear regression suits this as our target variable('Price') depends on other independent variables i.e'Avg. Area Income', 'Avg. Area House Age',       'Avg. Area Number of Rooms','Avg. Area Number of Bedrooms', 'Area Population'. The heatmap above can tell the correlation."
   ]
  },
  {
   "cell_type": "code",
   "execution_count": 19,
   "id": "088934d2-030d-4e37-9c46-f93300314268",
   "metadata": {},
   "outputs": [],
   "source": [
    "from sklearn.linear_model import LinearRegression\n",
    "\n",
    "linear_regression = LinearRegression()"
   ]
  },
  {
   "cell_type": "code",
   "execution_count": 20,
   "id": "304f9ac3-11f8-4075-bf4b-c6e22d97a461",
   "metadata": {},
   "outputs": [
    {
     "data": {
      "text/html": [
       "<style>#sk-container-id-1 {color: black;background-color: white;}#sk-container-id-1 pre{padding: 0;}#sk-container-id-1 div.sk-toggleable {background-color: white;}#sk-container-id-1 label.sk-toggleable__label {cursor: pointer;display: block;width: 100%;margin-bottom: 0;padding: 0.3em;box-sizing: border-box;text-align: center;}#sk-container-id-1 label.sk-toggleable__label-arrow:before {content: \"▸\";float: left;margin-right: 0.25em;color: #696969;}#sk-container-id-1 label.sk-toggleable__label-arrow:hover:before {color: black;}#sk-container-id-1 div.sk-estimator:hover label.sk-toggleable__label-arrow:before {color: black;}#sk-container-id-1 div.sk-toggleable__content {max-height: 0;max-width: 0;overflow: hidden;text-align: left;background-color: #f0f8ff;}#sk-container-id-1 div.sk-toggleable__content pre {margin: 0.2em;color: black;border-radius: 0.25em;background-color: #f0f8ff;}#sk-container-id-1 input.sk-toggleable__control:checked~div.sk-toggleable__content {max-height: 200px;max-width: 100%;overflow: auto;}#sk-container-id-1 input.sk-toggleable__control:checked~label.sk-toggleable__label-arrow:before {content: \"▾\";}#sk-container-id-1 div.sk-estimator input.sk-toggleable__control:checked~label.sk-toggleable__label {background-color: #d4ebff;}#sk-container-id-1 div.sk-label input.sk-toggleable__control:checked~label.sk-toggleable__label {background-color: #d4ebff;}#sk-container-id-1 input.sk-hidden--visually {border: 0;clip: rect(1px 1px 1px 1px);clip: rect(1px, 1px, 1px, 1px);height: 1px;margin: -1px;overflow: hidden;padding: 0;position: absolute;width: 1px;}#sk-container-id-1 div.sk-estimator {font-family: monospace;background-color: #f0f8ff;border: 1px dotted black;border-radius: 0.25em;box-sizing: border-box;margin-bottom: 0.5em;}#sk-container-id-1 div.sk-estimator:hover {background-color: #d4ebff;}#sk-container-id-1 div.sk-parallel-item::after {content: \"\";width: 100%;border-bottom: 1px solid gray;flex-grow: 1;}#sk-container-id-1 div.sk-label:hover label.sk-toggleable__label {background-color: #d4ebff;}#sk-container-id-1 div.sk-serial::before {content: \"\";position: absolute;border-left: 1px solid gray;box-sizing: border-box;top: 0;bottom: 0;left: 50%;z-index: 0;}#sk-container-id-1 div.sk-serial {display: flex;flex-direction: column;align-items: center;background-color: white;padding-right: 0.2em;padding-left: 0.2em;position: relative;}#sk-container-id-1 div.sk-item {position: relative;z-index: 1;}#sk-container-id-1 div.sk-parallel {display: flex;align-items: stretch;justify-content: center;background-color: white;position: relative;}#sk-container-id-1 div.sk-item::before, #sk-container-id-1 div.sk-parallel-item::before {content: \"\";position: absolute;border-left: 1px solid gray;box-sizing: border-box;top: 0;bottom: 0;left: 50%;z-index: -1;}#sk-container-id-1 div.sk-parallel-item {display: flex;flex-direction: column;z-index: 1;position: relative;background-color: white;}#sk-container-id-1 div.sk-parallel-item:first-child::after {align-self: flex-end;width: 50%;}#sk-container-id-1 div.sk-parallel-item:last-child::after {align-self: flex-start;width: 50%;}#sk-container-id-1 div.sk-parallel-item:only-child::after {width: 0;}#sk-container-id-1 div.sk-dashed-wrapped {border: 1px dashed gray;margin: 0 0.4em 0.5em 0.4em;box-sizing: border-box;padding-bottom: 0.4em;background-color: white;}#sk-container-id-1 div.sk-label label {font-family: monospace;font-weight: bold;display: inline-block;line-height: 1.2em;}#sk-container-id-1 div.sk-label-container {text-align: center;}#sk-container-id-1 div.sk-container {/* jupyter's `normalize.less` sets `[hidden] { display: none; }` but bootstrap.min.css set `[hidden] { display: none !important; }` so we also need the `!important` here to be able to override the default hidden behavior on the sphinx rendered scikit-learn.org. See: https://github.com/scikit-learn/scikit-learn/issues/21755 */display: inline-block !important;position: relative;}#sk-container-id-1 div.sk-text-repr-fallback {display: none;}</style><div id=\"sk-container-id-1\" class=\"sk-top-container\"><div class=\"sk-text-repr-fallback\"><pre>LinearRegression()</pre><b>In a Jupyter environment, please rerun this cell to show the HTML representation or trust the notebook. <br />On GitHub, the HTML representation is unable to render, please try loading this page with nbviewer.org.</b></div><div class=\"sk-container\" hidden><div class=\"sk-item\"><div class=\"sk-estimator sk-toggleable\"><input class=\"sk-toggleable__control sk-hidden--visually\" id=\"sk-estimator-id-1\" type=\"checkbox\" checked><label for=\"sk-estimator-id-1\" class=\"sk-toggleable__label sk-toggleable__label-arrow\">LinearRegression</label><div class=\"sk-toggleable__content\"><pre>LinearRegression()</pre></div></div></div></div></div>"
      ],
      "text/plain": [
       "LinearRegression()"
      ]
     },
     "execution_count": 20,
     "metadata": {},
     "output_type": "execute_result"
    }
   ],
   "source": [
    "linear_regression.fit(X_train,y_train)"
   ]
  },
  {
   "cell_type": "markdown",
   "id": "db5b22b2-c807-45f8-9700-1b26406291fd",
   "metadata": {},
   "source": [
    " ### iv) Interpreting the model"
   ]
  },
  {
   "cell_type": "code",
   "execution_count": 21,
   "id": "461b0828-f725-4fae-a7da-017bdce46148",
   "metadata": {},
   "outputs": [
    {
     "name": "stdout",
     "output_type": "stream",
     "text": [
      "-2647617.481547023\n"
     ]
    }
   ],
   "source": [
    "print(linear_regression.intercept_)\n",
    "\n"
   ]
  },
  {
   "cell_type": "code",
   "execution_count": 22,
   "id": "baac8e34-fcdf-4387-9e37-cb21c3cfbd1d",
   "metadata": {},
   "outputs": [
    {
     "name": "stdout",
     "output_type": "stream",
     "text": [
      "[2.16426789e+01 1.65227890e+05 1.21886316e+05 1.44672422e+03\n",
      " 1.52409209e+01]\n"
     ]
    }
   ],
   "source": [
    "print(linear_regression.coef_)"
   ]
  },
  {
   "cell_type": "markdown",
   "id": "86d273ec-1b4e-4a80-8cc3-c9ab51442ce8",
   "metadata": {},
   "source": [
    "****our learnt model:****"
   ]
  },
  {
   "cell_type": "code",
   "execution_count": 23,
   "id": "d5ca598c-e9de-4453-9390-584c77fd1d80",
   "metadata": {},
   "outputs": [
    {
     "name": "stdout",
     "output_type": "stream",
     "text": [
      "y = -2647617.481547023 + [2.16426789e+01 (x1) + 1.65227890e+05(x2) + 1.21886316e+05(x3) + 1.44672422e+03(x4) + 1.52409209e+01(x5)]\n"
     ]
    }
   ],
   "source": [
    "print('y = -2647617.481547023 + [2.16426789e+01 (x1) + 1.65227890e+05(x2) + 1.21886316e+05(x3) + 1.44672422e+03(x4) + \\\n",
    "1.52409209e+01(x5)]')"
   ]
  },
  {
   "cell_type": "code",
   "execution_count": 24,
   "id": "172d6255-4bd5-4c9b-b1ea-cfa75c6739c6",
   "metadata": {},
   "outputs": [
    {
     "data": {
      "text/html": [
       "<div>\n",
       "<style scoped>\n",
       "    .dataframe tbody tr th:only-of-type {\n",
       "        vertical-align: middle;\n",
       "    }\n",
       "\n",
       "    .dataframe tbody tr th {\n",
       "        vertical-align: top;\n",
       "    }\n",
       "\n",
       "    .dataframe thead th {\n",
       "        text-align: right;\n",
       "    }\n",
       "</style>\n",
       "<table border=\"1\" class=\"dataframe\">\n",
       "  <thead>\n",
       "    <tr style=\"text-align: right;\">\n",
       "      <th></th>\n",
       "      <th>Coefficient</th>\n",
       "    </tr>\n",
       "  </thead>\n",
       "  <tbody>\n",
       "    <tr>\n",
       "      <th>Avg. Area Income</th>\n",
       "      <td>21.64</td>\n",
       "    </tr>\n",
       "    <tr>\n",
       "      <th>Avg. Area House Age</th>\n",
       "      <td>165227.89</td>\n",
       "    </tr>\n",
       "    <tr>\n",
       "      <th>Avg. Area Number of Rooms</th>\n",
       "      <td>121886.32</td>\n",
       "    </tr>\n",
       "    <tr>\n",
       "      <th>Avg. Area Number of Bedrooms</th>\n",
       "      <td>1446.72</td>\n",
       "    </tr>\n",
       "    <tr>\n",
       "      <th>Area Population</th>\n",
       "      <td>15.24</td>\n",
       "    </tr>\n",
       "  </tbody>\n",
       "</table>\n",
       "</div>"
      ],
      "text/plain": [
       "                              Coefficient\n",
       "Avg. Area Income                    21.64\n",
       "Avg. Area House Age             165227.89\n",
       "Avg. Area Number of Rooms       121886.32\n",
       "Avg. Area Number of Bedrooms      1446.72\n",
       "Area Population                     15.24"
      ]
     },
     "execution_count": 24,
     "metadata": {},
     "output_type": "execute_result"
    }
   ],
   "source": [
    "coeff_df = pd.DataFrame(linear_regression.coef_, X.columns,columns = ['Coefficient'])\n",
    "coeff_df"
   ]
  },
  {
   "cell_type": "markdown",
   "id": "e1e751a5-c1e8-4583-a96d-defddf5bd739",
   "metadata": {},
   "source": [
    "Interpreting the coefficients:\n",
    "\n",
    "- Holding all other features fixed, a 1 unit increase in **Avg. Area Income** is associated with an **increase of \\$21.64 **.\n",
    "- Holding all other features fixed, a 1 unit increase in **Avg. Area House Age** is associated with an **increase of \\$165227.89 **.\n",
    "- Holding all other features fixed, a 1 unit increase in **Avg. Area Number of Rooms** is associated with an **increase of \\$121886.32 **.\n",
    "- Holding all other features fixed, a 1 unit increase in **Avg. Area Number of Bedrooms** is associated with an  **increase of \\$1446.72 ** .\n",
    "- Holding all other features fixed, a 1 unit increase in **Area Population** is associated with an **increase of \\$15.24 **.\n",
    "\n",
    "  Does this make sense? Probably not because I made up this data. If you want real data to repeat this sort of analysis check out the <u>boston dataset<u>:"
   ]
  },
  {
   "cell_type": "markdown",
   "id": "abfd5993-249d-4cc5-ba00-5e291abc784f",
   "metadata": {},
   "source": [
    "### v) Making predictions to assess the accuracy of our LinearRegression model."
   ]
  },
  {
   "cell_type": "markdown",
   "id": "6f2fdcdf-e081-4754-8234-9573809200a3",
   "metadata": {},
   "source": [
    "- In as much as a model has been created for us, how much can we trust the outputs from that model when data it has not interacted with before\n",
    "  is passed to it?\n",
    "- To look into this, we make predictions using the independent features in the test set and then compare those results to the actual values from\n",
    "  the test set as well. If the values are too far apart, then the model is not too accurate and some hyper parameter tuning can be performed.\n",
    "  If the values are not too far apart, then one can now lift that model and apply it to data that it has not seen before. This is done by calling the `.predict()` function on the X_test."
   ]
  },
  {
   "cell_type": "code",
   "execution_count": 25,
   "id": "3977f527-8ec6-4588-8823-b7cdf39c917f",
   "metadata": {},
   "outputs": [
    {
     "data": {
      "text/plain": [
       "array([1259281.62741627,  822817.96762108, 1742975.462742  , ...,\n",
       "       1191347.00184872,  870204.54445236,  699723.73098341])"
      ]
     },
     "execution_count": 25,
     "metadata": {},
     "output_type": "execute_result"
    }
   ],
   "source": [
    "y_pred = linear_regression.predict(X_test)\n",
    "y_pred"
   ]
  },
  {
   "cell_type": "code",
   "execution_count": 26,
   "id": "de254174-f361-44b9-be56-65083a383093",
   "metadata": {},
   "outputs": [
    {
     "data": {
      "text/html": [
       "<div>\n",
       "<style scoped>\n",
       "    .dataframe tbody tr th:only-of-type {\n",
       "        vertical-align: middle;\n",
       "    }\n",
       "\n",
       "    .dataframe tbody tr th {\n",
       "        vertical-align: top;\n",
       "    }\n",
       "\n",
       "    .dataframe thead th {\n",
       "        text-align: right;\n",
       "    }\n",
       "</style>\n",
       "<table border=\"1\" class=\"dataframe\">\n",
       "  <thead>\n",
       "    <tr style=\"text-align: right;\">\n",
       "      <th></th>\n",
       "      <th>Actual</th>\n",
       "      <th>Predicted</th>\n",
       "      <th>Difference</th>\n",
       "    </tr>\n",
       "  </thead>\n",
       "  <tbody>\n",
       "    <tr>\n",
       "      <th>2244</th>\n",
       "      <td>1162949</td>\n",
       "      <td>1235707.68</td>\n",
       "      <td>-72758.68</td>\n",
       "    </tr>\n",
       "    <tr>\n",
       "      <th>3397</th>\n",
       "      <td>1363623</td>\n",
       "      <td>1322975.08</td>\n",
       "      <td>40647.92</td>\n",
       "    </tr>\n",
       "    <tr>\n",
       "      <th>1254</th>\n",
       "      <td>1587406</td>\n",
       "      <td>1765234.86</td>\n",
       "      <td>-177828.86</td>\n",
       "    </tr>\n",
       "    <tr>\n",
       "      <th>3423</th>\n",
       "      <td>938827</td>\n",
       "      <td>975833.97</td>\n",
       "      <td>-37006.97</td>\n",
       "    </tr>\n",
       "    <tr>\n",
       "      <th>3946</th>\n",
       "      <td>1242316</td>\n",
       "      <td>1191347.00</td>\n",
       "      <td>50969.00</td>\n",
       "    </tr>\n",
       "    <tr>\n",
       "      <th>3299</th>\n",
       "      <td>1017722</td>\n",
       "      <td>870204.54</td>\n",
       "      <td>147517.46</td>\n",
       "    </tr>\n",
       "    <tr>\n",
       "      <th>1219</th>\n",
       "      <td>842924</td>\n",
       "      <td>699723.73</td>\n",
       "      <td>143200.27</td>\n",
       "    </tr>\n",
       "  </tbody>\n",
       "</table>\n",
       "</div>"
      ],
      "text/plain": [
       "       Actual  Predicted  Difference\n",
       "2244  1162949 1235707.68   -72758.68\n",
       "3397  1363623 1322975.08    40647.92\n",
       "1254  1587406 1765234.86  -177828.86\n",
       "3423   938827  975833.97   -37006.97\n",
       "3946  1242316 1191347.00    50969.00\n",
       "3299  1017722  870204.54   147517.46\n",
       "1219   842924  699723.73   143200.27"
      ]
     },
     "execution_count": 26,
     "metadata": {},
     "output_type": "execute_result"
    }
   ],
   "source": [
    "residuals = pd.DataFrame({'Actual': y_test, 'Predicted': y_pred, \"Difference\":y_test-y_pred})\n",
    "\n",
    "residuals.tail(7)"
   ]
  },
  {
   "cell_type": "markdown",
   "id": "9f67e21b-a160-4768-b0b5-342441f4e8ea",
   "metadata": {},
   "source": [
    "### Visualize the predicted results"
   ]
  },
  {
   "cell_type": "code",
   "execution_count": 27,
   "id": "7ac7178a-fcc6-4f79-ad97-d049a39fbf7f",
   "metadata": {},
   "outputs": [
    {
     "data": {
      "image/png": "[encoded data removed]",
      "text/plain": [
       "<Figure size 600x600 with 1 Axes>"
      ]
     },
     "metadata": {},
     "output_type": "display_data"
    }
   ],
   "source": [
    "plt.figure(figsize=(6,6))\n",
    "plt.scatter(y_test,y_pred)\n",
    "plt.xlabel(\"Actual\")\n",
    "plt.ylabel(\"Predicted\") \n",
    "plt.title(\"Actual vs Predicted\")\n",
    "plt.show()"
   ]
  },
  {
   "cell_type": "code",
   "execution_count": 28,
   "id": "ee1fe5ef-9389-40b6-a01b-39dec742744a",
   "metadata": {},
   "outputs": [
    {
     "data": {
      "text/plain": [
       "0.9161592498859868"
      ]
     },
     "execution_count": 28,
     "metadata": {},
     "output_type": "execute_result"
    }
   ],
   "source": [
    "# Evaluate the model\n",
    "from sklearn.metrics import r2_score\n",
    "r2_score(y_test,y_pred)"
   ]
  },
  {
   "cell_type": "markdown",
   "id": "3425a0aa-8d1a-4689-bbe0-2a84ae8e2cce",
   "metadata": {},
   "source": [
    "- The model demonstrated excellent predictive performance, achieving an r2_score of 0.9161592498859868, which indicates that it explains 91.7% of\n",
    "  the variance in the target variable. This high score reflects the model's strong ability to capture underlying patterns in the data.\n",
    "\n",
    "  **strengths of the model include:**\n",
    "  - High accuracy: Well-suited for making reliable predictions.\n",
    "  - Robustness: The model suggests the model generalises wel to unseen data.\n",
    "  - Practical application: With this level of precision , the model can be confidently deployed to real-world scenarios.\n",
    "\n",
    "- However, it's essential to complement this analysis with addittional metrics like RMSE,MAE and diagnostics to ensure comprehensive evaluation. Fine\n",
    "  tuning may further improve its edge cases.    \n",
    "      "
   ]
  },
  {
   "cell_type": "code",
   "execution_count": 29,
   "id": "1cf0c4db-fe7a-4ff8-bae1-6c7a0041307f",
   "metadata": {},
   "outputs": [
    {
     "name": "stdout",
     "output_type": "stream",
     "text": [
      "MAE 81778.67911867336\n",
      "MSE 10331657141.935215\n",
      "RMSE 101644.75953995471\n"
     ]
    }
   ],
   "source": [
    "from sklearn import metrics\n",
    "\n",
    "print('MAE', metrics.mean_absolute_error(y_test, y_pred))\n",
    "print('MSE', metrics.mean_squared_error(y_test, y_pred))\n",
    "print('RMSE', np.sqrt(metrics.mean_squared_error(y_test, y_pred)))\n"
   ]
  }
 ],
 "metadata": {
  "kernelspec": {
   "display_name": "Python 3 (ipykernel)",
   "language": "python",
   "name": "python3"
  },
  "language_info": {
   "codemirror_mode": {
    "name": "ipython",
    "version": 3
   },
   "file_extension": ".py",
   "mimetype": "text/x-python",
   "name": "python",
   "nbconvert_exporter": "python",
   "pygments_lexer": "ipython3",
   "version": "3.11.7"
  }
 },
 "nbformat": 4,
 "nbformat_minor": 5
}
